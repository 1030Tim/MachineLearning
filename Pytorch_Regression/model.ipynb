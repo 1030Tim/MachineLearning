{
 "cells": [
  {
   "cell_type": "code",
   "execution_count": 105,
   "metadata": {},
   "outputs": [],
   "source": [
    "import pandas as pd\n",
    "import numpy as np\n",
    "import matplotlib.pyplot as plt\n",
    "import torch\n",
    "import seaborn as sns"
   ]
  },
  {
   "cell_type": "code",
   "execution_count": 106,
   "metadata": {},
   "outputs": [],
   "source": [
    "df = pd.read_csv(\"Salary_Data.csv\")\n",
    "x = df[\"YearsExperience\"]\n",
    "y = df[\"Salary\"]"
   ]
  },
  {
   "cell_type": "code",
   "execution_count": 107,
   "metadata": {},
   "outputs": [],
   "source": [
    "from sklearn.model_selection import train_test_split\n",
    "import torch\n",
    "\n",
    "x_train, x_test, y_train, y_test = train_test_split(x, y, test_size=0.2, random_state=87)\n",
    "x_train = x_train.to_numpy()\n",
    "x_test = x_test.to_numpy()\n",
    "y_train = y_train.to_numpy()\n",
    "y_test = y_test.to_numpy()\n",
    "\n",
    "x_train = torch.from_numpy(x_train)\n",
    "x_test = torch.from_numpy(x_test)\n",
    "y_train = torch.from_numpy(y_train)\n",
    "y_test = torch.from_numpy(y_test)"
   ]
  },
  {
   "cell_type": "code",
   "execution_count": 108,
   "metadata": {},
   "outputs": [],
   "source": [
    "from torch import nn\n",
    "\n",
    "class LinearRegressionModel(nn.Module):\n",
    "  def __init__(self):\n",
    "    super().__init__()\n",
    "    self.w = nn.Parameter(torch.rand(1, requires_grad=True))\n",
    "    self.b = nn.Parameter(torch.rand(1, requires_grad=True))\n",
    "\n",
    "  def forward(self, x):\n",
    "    return self.w*x + self.b"
   ]
  },
  {
   "cell_type": "code",
   "execution_count": 109,
   "metadata": {},
   "outputs": [
    {
     "data": {
      "text/plain": [
       "OrderedDict([('w', tensor([0.0036])), ('b', tensor([0.8931]))])"
      ]
     },
     "execution_count": 109,
     "metadata": {},
     "output_type": "execute_result"
    }
   ],
   "source": [
    "torch.manual_seed(87)\n",
    "model = LinearRegressionModel()\n",
    "# list(model.parameters())\n",
    "model.state_dict()"
   ]
  },
  {
   "cell_type": "code",
   "execution_count": 110,
   "metadata": {},
   "outputs": [
    {
     "data": {
      "text/plain": [
       "(tensor([0.9149, 0.9312, 0.8953, 0.9145, 0.9279, 0.9065, 0.8978],\n",
       "        dtype=torch.float64, grad_fn=<AddBackward0>),\n",
       " tensor([ 93.9000, 121.8000,  36.6000,  81.3000, 112.6000,  57.1000,  46.2000],\n",
       "        dtype=torch.float64))"
      ]
     },
     "execution_count": 110,
     "metadata": {},
     "output_type": "execute_result"
    }
   ],
   "source": [
    "y_pred = model(x_test)\n",
    "y_pred, y_test"
   ]
  },
  {
   "cell_type": "code",
   "execution_count": 111,
   "metadata": {},
   "outputs": [
    {
     "name": "stdout",
     "output_type": "stream",
     "text": [
      "OrderedDict({'w': tensor([0.0036]), 'b': tensor([0.8931])})\n",
      "tensor(5627.4383, dtype=torch.float64, grad_fn=<MseLossBackward0>)\n",
      "OrderedDict({'w': tensor([8.1354]), 'b': tensor([2.2939])})\n",
      "tensor(944.6855, dtype=torch.float64, grad_fn=<MseLossBackward0>)\n"
     ]
    }
   ],
   "source": [
    "cost_fn = nn.MSELoss()\n",
    "y_pred = model(x_train)\n",
    "cost = cost_fn(y_pred, y_train)\n",
    "print(model.state_dict())\n",
    "print(cost)\n",
    "\n",
    "optimizer = torch.optim.SGD(params=model.parameters(),lr=0.01)\n",
    "optimizer.zero_grad()\n",
    "cost.backward()#計算參數\n",
    "optimizer.step()\n",
    "\n",
    "y_pred = model(x_train)\n",
    "cost = cost_fn(y_pred, y_train)\n",
    "print(model.state_dict())\n",
    "print(cost)"
   ]
  },
  {
   "cell_type": "code",
   "execution_count": 112,
   "metadata": {},
   "outputs": [
    {
     "name": "stdout",
     "output_type": "stream",
     "text": [
      "Epoch     0 cost 9.4469e+02 test_cost 3.5138e+02\n",
      "Epoch   100 cost 8.4788e+01 test_cost 1.5017e+02\n",
      "Epoch   200 cost 5.1465e+01 test_cost 8.8149e+01\n",
      "Epoch   300 cost 3.9417e+01 test_cost 6.0928e+01\n",
      "Epoch   400 cost 3.5061e+01 test_cost 4.8202e+01\n",
      "Epoch   500 cost 3.3486e+01 test_cost 4.1867e+01\n",
      "Epoch   600 cost 3.2916e+01 test_cost 3.8534e+01\n",
      "Epoch   700 cost 3.2710e+01 test_cost 3.6702e+01\n",
      "Epoch   800 cost 3.2636e+01 test_cost 3.5663e+01\n",
      "Epoch   900 cost 3.2609e+01 test_cost 3.5061e+01\n",
      "Epoch  1000 cost 3.2599e+01 test_cost 3.4706e+01\n",
      "Epoch  1100 cost 3.2596e+01 test_cost 3.4496e+01\n",
      "Epoch  1200 cost 3.2595e+01 test_cost 3.4371e+01\n",
      "Epoch  1300 cost 3.2594e+01 test_cost 3.4296e+01\n",
      "Epoch  1400 cost 3.2594e+01 test_cost 3.4251e+01\n",
      "Epoch  1500 cost 3.2594e+01 test_cost 3.4224e+01\n",
      "Epoch  1600 cost 3.2594e+01 test_cost 3.4208e+01\n",
      "Epoch  1700 cost 3.2594e+01 test_cost 3.4199e+01\n",
      "Epoch  1800 cost 3.2594e+01 test_cost 3.4193e+01\n",
      "Epoch  1900 cost 3.2594e+01 test_cost 3.4189e+01\n",
      "Epoch  2000 cost 3.2594e+01 test_cost 3.4187e+01\n",
      "Epoch  2100 cost 3.2594e+01 test_cost 3.4186e+01\n",
      "Epoch  2200 cost 3.2594e+01 test_cost 3.4185e+01\n",
      "Epoch  2300 cost 3.2594e+01 test_cost 3.4185e+01\n",
      "Epoch  2400 cost 3.2594e+01 test_cost 3.4185e+01\n",
      "Epoch  2500 cost 3.2594e+01 test_cost 3.4185e+01\n",
      "Epoch  2600 cost 3.2594e+01 test_cost 3.4185e+01\n",
      "Epoch  2700 cost 3.2594e+01 test_cost 3.4185e+01\n",
      "Epoch  2800 cost 3.2594e+01 test_cost 3.4185e+01\n",
      "Epoch  2900 cost 3.2594e+01 test_cost 3.4185e+01\n",
      "Epoch  3000 cost 3.2594e+01 test_cost 3.4185e+01\n",
      "Epoch  3100 cost 3.2594e+01 test_cost 3.4185e+01\n",
      "Epoch  3200 cost 3.2594e+01 test_cost 3.4185e+01\n",
      "Epoch  3300 cost 3.2594e+01 test_cost 3.4185e+01\n",
      "Epoch  3400 cost 3.2594e+01 test_cost 3.4185e+01\n",
      "Epoch  3500 cost 3.2594e+01 test_cost 3.4185e+01\n",
      "Epoch  3600 cost 3.2594e+01 test_cost 3.4185e+01\n",
      "Epoch  3700 cost 3.2594e+01 test_cost 3.4185e+01\n",
      "Epoch  3800 cost 3.2594e+01 test_cost 3.4185e+01\n",
      "Epoch  3900 cost 3.2594e+01 test_cost 3.4185e+01\n",
      "Epoch  4000 cost 3.2594e+01 test_cost 3.4185e+01\n",
      "Epoch  4100 cost 3.2594e+01 test_cost 3.4185e+01\n",
      "Epoch  4200 cost 3.2594e+01 test_cost 3.4185e+01\n",
      "Epoch  4300 cost 3.2594e+01 test_cost 3.4185e+01\n",
      "Epoch  4400 cost 3.2594e+01 test_cost 3.4185e+01\n",
      "Epoch  4500 cost 3.2594e+01 test_cost 3.4185e+01\n",
      "Epoch  4600 cost 3.2594e+01 test_cost 3.4185e+01\n",
      "Epoch  4700 cost 3.2594e+01 test_cost 3.4185e+01\n",
      "Epoch  4800 cost 3.2594e+01 test_cost 3.4185e+01\n",
      "Epoch  4900 cost 3.2594e+01 test_cost 3.4185e+01\n",
      "Epoch  5000 cost 3.2594e+01 test_cost 3.4185e+01\n",
      "Epoch  5100 cost 3.2594e+01 test_cost 3.4185e+01\n",
      "Epoch  5200 cost 3.2594e+01 test_cost 3.4185e+01\n",
      "Epoch  5300 cost 3.2594e+01 test_cost 3.4185e+01\n",
      "Epoch  5400 cost 3.2594e+01 test_cost 3.4185e+01\n",
      "Epoch  5500 cost 3.2594e+01 test_cost 3.4185e+01\n",
      "Epoch  5600 cost 3.2594e+01 test_cost 3.4185e+01\n",
      "Epoch  5700 cost 3.2594e+01 test_cost 3.4185e+01\n",
      "Epoch  5800 cost 3.2594e+01 test_cost 3.4185e+01\n",
      "Epoch  5900 cost 3.2594e+01 test_cost 3.4185e+01\n",
      "Epoch  6000 cost 3.2594e+01 test_cost 3.4185e+01\n",
      "Epoch  6100 cost 3.2594e+01 test_cost 3.4185e+01\n",
      "Epoch  6200 cost 3.2594e+01 test_cost 3.4185e+01\n",
      "Epoch  6300 cost 3.2594e+01 test_cost 3.4185e+01\n",
      "Epoch  6400 cost 3.2594e+01 test_cost 3.4185e+01\n",
      "Epoch  6500 cost 3.2594e+01 test_cost 3.4185e+01\n",
      "Epoch  6600 cost 3.2594e+01 test_cost 3.4185e+01\n",
      "Epoch  6700 cost 3.2594e+01 test_cost 3.4185e+01\n",
      "Epoch  6800 cost 3.2594e+01 test_cost 3.4185e+01\n",
      "Epoch  6900 cost 3.2594e+01 test_cost 3.4185e+01\n",
      "Epoch  7000 cost 3.2594e+01 test_cost 3.4185e+01\n",
      "Epoch  7100 cost 3.2594e+01 test_cost 3.4185e+01\n",
      "Epoch  7200 cost 3.2594e+01 test_cost 3.4185e+01\n",
      "Epoch  7300 cost 3.2594e+01 test_cost 3.4185e+01\n",
      "Epoch  7400 cost 3.2594e+01 test_cost 3.4185e+01\n",
      "Epoch  7500 cost 3.2594e+01 test_cost 3.4185e+01\n",
      "Epoch  7600 cost 3.2594e+01 test_cost 3.4185e+01\n",
      "Epoch  7700 cost 3.2594e+01 test_cost 3.4185e+01\n",
      "Epoch  7800 cost 3.2594e+01 test_cost 3.4185e+01\n",
      "Epoch  7900 cost 3.2594e+01 test_cost 3.4185e+01\n",
      "Epoch  8000 cost 3.2594e+01 test_cost 3.4185e+01\n",
      "Epoch  8100 cost 3.2594e+01 test_cost 3.4185e+01\n",
      "Epoch  8200 cost 3.2594e+01 test_cost 3.4185e+01\n",
      "Epoch  8300 cost 3.2594e+01 test_cost 3.4185e+01\n",
      "Epoch  8400 cost 3.2594e+01 test_cost 3.4185e+01\n",
      "Epoch  8500 cost 3.2594e+01 test_cost 3.4185e+01\n",
      "Epoch  8600 cost 3.2594e+01 test_cost 3.4185e+01\n",
      "Epoch  8700 cost 3.2594e+01 test_cost 3.4185e+01\n",
      "Epoch  8800 cost 3.2594e+01 test_cost 3.4185e+01\n",
      "Epoch  8900 cost 3.2594e+01 test_cost 3.4185e+01\n",
      "Epoch  9000 cost 3.2594e+01 test_cost 3.4185e+01\n",
      "Epoch  9100 cost 3.2594e+01 test_cost 3.4185e+01\n",
      "Epoch  9200 cost 3.2594e+01 test_cost 3.4185e+01\n",
      "Epoch  9300 cost 3.2594e+01 test_cost 3.4185e+01\n",
      "Epoch  9400 cost 3.2594e+01 test_cost 3.4185e+01\n",
      "Epoch  9500 cost 3.2594e+01 test_cost 3.4185e+01\n",
      "Epoch  9600 cost 3.2594e+01 test_cost 3.4185e+01\n",
      "Epoch  9700 cost 3.2594e+01 test_cost 3.4185e+01\n",
      "Epoch  9800 cost 3.2594e+01 test_cost 3.4185e+01\n",
      "Epoch  9900 cost 3.2594e+01 test_cost 3.4185e+01\n"
     ]
    }
   ],
   "source": [
    "Epoch = 10000\n",
    "train_cost_hist = [ ]\n",
    "test_cost_hist = [ ]\n",
    "for i in range(Epoch):\n",
    "    model.train()\n",
    "    y_pred = model(x_train)\n",
    "    train_cost = cost_fn(y_pred,y_train)\n",
    "    train_cost_hist.append(train_cost.detach().numpy())\n",
    "    optimizer.zero_grad()\n",
    "    train_cost.backward()\n",
    "    optimizer.step()\n",
    "\n",
    "    model.eval()\n",
    "    with (torch.inference_mode()):\n",
    "        test_pred = model(x_test)\n",
    "        test_cost = cost_fn(test_pred,y_test)\n",
    "        test_cost_hist.append(test_cost.detach().numpy())\n",
    "\n",
    "    if (i%100 == 0):\n",
    "        print(f\"Epoch {i:5} cost {train_cost:.4e} test_cost {test_cost:.4e}\")"
   ]
  },
  {
   "cell_type": "code",
   "execution_count": 113,
   "metadata": {},
   "outputs": [
    {
     "data": {
      "image/png": "[encoded data removed]",
      "text/plain": [
       "<Figure size 640x480 with 1 Axes>"
      ]
     },
     "metadata": {},
     "output_type": "display_data"
    }
   ],
   "source": [
    "import matplotlib.pyplot as plt\n",
    "plt.plot(range(0,Epoch),train_cost_hist,label=\"train cost\")\n",
    "plt.plot(range(0,Epoch),test_cost_hist,label =\"test_cost\")\n",
    "plt.title(\"train & test cost\")\n",
    "plt.xlabel(\"epcochs\")\n",
    "plt.xlabel(\"cost\")\n",
    "plt.legend()\n",
    "plt.grid()\n",
    "plt.show()"
   ]
  },
  {
   "cell_type": "code",
   "execution_count": 114,
   "metadata": {},
   "outputs": [
    {
     "data": {
      "text/plain": [
       "(tensor([ 82.6135, 124.6020,  32.2271,  81.6804, 116.2043,  61.1526,  38.7587],\n",
       "        dtype=torch.float64),\n",
       " tensor([ 93.9000, 121.8000,  36.6000,  81.3000, 112.6000,  57.1000,  46.2000],\n",
       "        dtype=torch.float64))"
      ]
     },
     "execution_count": 114,
     "metadata": {},
     "output_type": "execute_result"
    }
   ],
   "source": [
    "model.eval()\n",
    "with (torch.inference_mode()):\n",
    "    y_pred = model(x_test)\n",
    "y_pred,y_test"
   ]
  },
  {
   "cell_type": "code",
   "execution_count": 115,
   "metadata": {},
   "outputs": [],
   "source": [
    "model.state_dict()\n",
    "torch.save(obj=model.state_dict(),f=\"pytorch_linear_regression.ptn\")"
   ]
  },
  {
   "cell_type": "code",
   "execution_count": 116,
   "metadata": {},
   "outputs": [
    {
     "data": {
      "text/plain": [
       "OrderedDict([('w', tensor([0.4548])), ('b', tensor([0.9815]))])"
      ]
     },
     "execution_count": 116,
     "metadata": {},
     "output_type": "execute_result"
    }
   ],
   "source": [
    "model_1 = LinearRegressionModel()\n",
    "model_1.state_dict()\n"
   ]
  },
  {
   "cell_type": "code",
   "execution_count": 117,
   "metadata": {},
   "outputs": [
    {
     "data": {
      "text/plain": [
       "OrderedDict([('w', tensor([9.3308])), ('b', tensor([26.6287]))])"
      ]
     },
     "execution_count": 117,
     "metadata": {},
     "output_type": "execute_result"
    }
   ],
   "source": [
    "model_1.load_state_dict(torch.load(f=\"pytorch_linear_regression.ptn\"))\n",
    "model_1.state_dict()"
   ]
  }
 ],
 "metadata": {
  "kernelspec": {
   "display_name": "venv",
   "language": "python",
   "name": "python3"
  },
  "language_info": {
   "codemirror_mode": {
    "name": "ipython",
    "version": 3
   },
   "file_extension": ".py",
   "mimetype": "text/x-python",
   "name": "python",
   "nbconvert_exporter": "python",
   "pygments_lexer": "ipython3",
   "version": "3.13.2"
  }
 },
 "nbformat": 4,
 "nbformat_minor": 2
}
