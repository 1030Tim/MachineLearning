{
 "cells": [
  {
   "cell_type": "code",
   "execution_count": 26,
   "metadata": {},
   "outputs": [
    {
     "data": {
      "text/html": [
       "<div>\n",
       "<style scoped>\n",
       "    .dataframe tbody tr th:only-of-type {\n",
       "        vertical-align: middle;\n",
       "    }\n",
       "\n",
       "    .dataframe tbody tr th {\n",
       "        vertical-align: top;\n",
       "    }\n",
       "\n",
       "    .dataframe thead th {\n",
       "        text-align: right;\n",
       "    }\n",
       "</style>\n",
       "<table border=\"1\" class=\"dataframe\">\n",
       "  <thead>\n",
       "    <tr style=\"text-align: right;\">\n",
       "      <th></th>\n",
       "      <th>Age</th>\n",
       "      <th>Weight</th>\n",
       "      <th>BloodSugar</th>\n",
       "      <th>Gender</th>\n",
       "      <th>Diabetes</th>\n",
       "    </tr>\n",
       "  </thead>\n",
       "  <tbody>\n",
       "    <tr>\n",
       "      <th>0</th>\n",
       "      <td>25</td>\n",
       "      <td>119</td>\n",
       "      <td>130.8</td>\n",
       "      <td>1</td>\n",
       "      <td>1</td>\n",
       "    </tr>\n",
       "    <tr>\n",
       "      <th>1</th>\n",
       "      <td>66</td>\n",
       "      <td>102</td>\n",
       "      <td>128.1</td>\n",
       "      <td>0</td>\n",
       "      <td>1</td>\n",
       "    </tr>\n",
       "    <tr>\n",
       "      <th>2</th>\n",
       "      <td>59</td>\n",
       "      <td>65</td>\n",
       "      <td>103.9</td>\n",
       "      <td>1</td>\n",
       "      <td>0</td>\n",
       "    </tr>\n",
       "    <tr>\n",
       "      <th>3</th>\n",
       "      <td>46</td>\n",
       "      <td>117</td>\n",
       "      <td>94.8</td>\n",
       "      <td>0</td>\n",
       "      <td>0</td>\n",
       "    </tr>\n",
       "    <tr>\n",
       "      <th>4</th>\n",
       "      <td>45</td>\n",
       "      <td>79</td>\n",
       "      <td>57.8</td>\n",
       "      <td>1</td>\n",
       "      <td>0</td>\n",
       "    </tr>\n",
       "    <tr>\n",
       "      <th>...</th>\n",
       "      <td>...</td>\n",
       "      <td>...</td>\n",
       "      <td>...</td>\n",
       "      <td>...</td>\n",
       "      <td>...</td>\n",
       "    </tr>\n",
       "    <tr>\n",
       "      <th>395</th>\n",
       "      <td>72</td>\n",
       "      <td>63</td>\n",
       "      <td>97.1</td>\n",
       "      <td>0</td>\n",
       "      <td>0</td>\n",
       "    </tr>\n",
       "    <tr>\n",
       "      <th>396</th>\n",
       "      <td>22</td>\n",
       "      <td>117</td>\n",
       "      <td>156.7</td>\n",
       "      <td>0</td>\n",
       "      <td>1</td>\n",
       "    </tr>\n",
       "    <tr>\n",
       "      <th>397</th>\n",
       "      <td>31</td>\n",
       "      <td>76</td>\n",
       "      <td>119.0</td>\n",
       "      <td>1</td>\n",
       "      <td>0</td>\n",
       "    </tr>\n",
       "    <tr>\n",
       "      <th>398</th>\n",
       "      <td>36</td>\n",
       "      <td>65</td>\n",
       "      <td>96.3</td>\n",
       "      <td>0</td>\n",
       "      <td>1</td>\n",
       "    </tr>\n",
       "    <tr>\n",
       "      <th>399</th>\n",
       "      <td>38</td>\n",
       "      <td>75</td>\n",
       "      <td>106.3</td>\n",
       "      <td>1</td>\n",
       "      <td>0</td>\n",
       "    </tr>\n",
       "  </tbody>\n",
       "</table>\n",
       "<p>400 rows × 5 columns</p>\n",
       "</div>"
      ],
      "text/plain": [
       "     Age  Weight  BloodSugar  Gender  Diabetes\n",
       "0     25     119       130.8       1         1\n",
       "1     66     102       128.1       0         1\n",
       "2     59      65       103.9       1         0\n",
       "3     46     117        94.8       0         0\n",
       "4     45      79        57.8       1         0\n",
       "..   ...     ...         ...     ...       ...\n",
       "395   72      63        97.1       0         0\n",
       "396   22     117       156.7       0         1\n",
       "397   31      76       119.0       1         0\n",
       "398   36      65        96.3       0         1\n",
       "399   38      75       106.3       1         0\n",
       "\n",
       "[400 rows x 5 columns]"
      ]
     },
     "execution_count": 26,
     "metadata": {},
     "output_type": "execute_result"
    }
   ],
   "source": [
    "import pandas as pd\n",
    "import numpy as np\n",
    "\n",
    "# df = pd.read_csv(\"https://raw.githubusercontent.com/GrandmaCan/ML/main/Classification/Diabetes_Data.csv\")\n",
    "# df.to_csv(\"logistic.csv\",index=False)\n",
    "df = pd.read_csv(\"logistic.csv\")\n",
    "df[\"Gender\"] = df[\"Gender\"].map({\"男生\":1,\"女生\":0})\n",
    "df"
   ]
  },
  {
   "cell_type": "code",
   "execution_count": 27,
   "metadata": {},
   "outputs": [],
   "source": [
    "from sklearn.model_selection import train_test_split\n",
    "x = df[[\"Age\",\"Weight\",\"BloodSugar\",\"Gender\"]]\n",
    "y = df[\"Diabetes\"]\n",
    "x_train,x_test,y_train,y_test = train_test_split(x,y,test_size=0.2,random_state=87)\n",
    "x_train = x_train.to_numpy()\n",
    "x_test = x_test.to_numpy()"
   ]
  },
  {
   "cell_type": "code",
   "execution_count": 28,
   "metadata": {},
   "outputs": [],
   "source": [
    "from sklearn.preprocessing import StandardScaler\n",
    "scaler = StandardScaler()\n",
    "scaler.fit(x_train)\n",
    "x_train = scaler.transform(x_train)\n",
    "x_test = scaler.transform(x_test)"
   ]
  },
  {
   "cell_type": "code",
   "execution_count": 29,
   "metadata": {},
   "outputs": [],
   "source": [
    "def sigmoid(z):\n",
    "    return 1/(1+np.exp(-z))"
   ]
  },
  {
   "cell_type": "code",
   "execution_count": 30,
   "metadata": {},
   "outputs": [
    {
     "data": {
      "text/plain": [
       "array([9.95698875e-01, 9.06375097e-01, 2.05197222e-03, 9.99871937e-01,\n",
       "       9.99976601e-01, 9.99597573e-01, 9.42501826e-03, 6.58750315e-01,\n",
       "       9.72220502e-01, 2.04535575e-03, 9.95406153e-01, 9.33440694e-01,\n",
       "       9.99020890e-01, 6.88676986e-03, 8.77843224e-05, 7.26538573e-01,\n",
       "       9.32368144e-01, 8.09433980e-02, 1.22884071e-02, 6.59095116e-01,\n",
       "       9.35714906e-01, 6.38508320e-02, 3.04389233e-01, 9.30273981e-01,\n",
       "       1.23897708e-03, 9.93625786e-01, 5.90053392e-02, 9.86068856e-01,\n",
       "       1.89102010e-04, 1.33090984e-03, 8.85296779e-01, 9.99482973e-01,\n",
       "       4.70219520e-04, 9.99353194e-01, 1.87660501e-01, 9.95430646e-01,\n",
       "       9.98245826e-01, 9.99905804e-01, 9.77808458e-01, 4.92634254e-03,\n",
       "       9.98319405e-01, 9.99759816e-01, 1.56719013e-01, 4.11932567e-01,\n",
       "       1.47183312e-01, 8.92262698e-01, 9.92187079e-01, 1.02910854e-01,\n",
       "       8.61895492e-01, 5.88617508e-02, 9.36987924e-02, 3.51332925e-01,\n",
       "       9.22153819e-01, 2.12994568e-02, 6.66132695e-01, 9.13035739e-01,\n",
       "       9.02418991e-01, 7.97432520e-01, 9.99934074e-01, 9.07414190e-01,\n",
       "       2.26109791e-01, 5.06060362e-04, 1.19964463e-03, 8.81751996e-03,\n",
       "       1.25477464e-02, 3.82655797e-02, 5.66565062e-01, 3.94376907e-01,\n",
       "       8.41196950e-01, 4.90934332e-01, 9.41213372e-01, 4.61792510e-01,\n",
       "       1.87332467e-01, 9.99770453e-01, 3.55272968e-01, 7.51108078e-02,\n",
       "       9.40137028e-01, 9.99997869e-01, 9.97083973e-01, 1.02891978e-01,\n",
       "       9.99956685e-01, 3.83187354e-01, 9.99934477e-01, 3.12628879e-01,\n",
       "       3.62759044e-01, 2.72754945e-02, 9.93209366e-01, 2.10431255e-01,\n",
       "       9.99854870e-01, 9.96581635e-01, 7.70093447e-02, 9.95502265e-01,\n",
       "       1.51771499e-03, 9.99983699e-01, 1.19811389e-03, 1.15834030e-01,\n",
       "       4.24974021e-01, 9.99949946e-01, 6.71956507e-01, 1.14722158e-03,\n",
       "       6.99162450e-01, 3.47575571e-05, 9.95721280e-01, 1.48732261e-03,\n",
       "       1.41018855e-02, 9.99641834e-01, 7.84437862e-01, 9.96904699e-01,\n",
       "       1.74381792e-01, 2.92826183e-04, 9.94926395e-01, 1.97768384e-03,\n",
       "       4.72453284e-03, 4.80146796e-01, 9.69058756e-01, 9.62938811e-01,\n",
       "       9.83079730e-01, 9.99817951e-01, 9.88679172e-01, 9.70039805e-01,\n",
       "       3.13819216e-02, 7.23263852e-02, 7.26436938e-02, 7.41628803e-01,\n",
       "       1.03434699e-02, 9.36131016e-04, 4.09188420e-04, 1.50915274e-02,\n",
       "       9.99999218e-01, 9.84453805e-01, 9.96407323e-01, 9.99898075e-01,\n",
       "       2.68622364e-01, 9.95765904e-01, 9.99978631e-01, 9.99650213e-01,\n",
       "       2.43774831e-05, 2.11668545e-01, 9.90495219e-01, 3.49230935e-02,\n",
       "       9.76453064e-01, 9.99983427e-01, 9.98461360e-01, 1.11912818e-02,\n",
       "       9.64619512e-01, 9.99288527e-01, 9.99805307e-01, 9.98279806e-01,\n",
       "       5.28083720e-01, 9.79755204e-01, 9.85286716e-01, 8.23174252e-06,\n",
       "       9.18419063e-01, 9.97361223e-01, 2.81781162e-02, 6.60029913e-04,\n",
       "       1.38819798e-04, 9.99996970e-01, 3.51322180e-01, 8.89378985e-01,\n",
       "       9.96626559e-01, 1.39551420e-03, 7.83425854e-01, 9.68724242e-01,\n",
       "       2.39244497e-03, 9.61048540e-01, 7.03534153e-01, 4.01432706e-01,\n",
       "       6.10941261e-02, 9.99989988e-01, 7.84540259e-01, 9.70692139e-02,\n",
       "       8.07533439e-01, 1.64246362e-01, 9.99641507e-01, 1.49117551e-02,\n",
       "       3.69207391e-06, 1.42660146e-03, 1.40383437e-05, 6.32308689e-01,\n",
       "       9.53430398e-02, 6.44861607e-04, 8.67663892e-01, 1.09971940e-03,\n",
       "       6.87304107e-02, 4.87853990e-01, 9.99998736e-01, 9.72577571e-01,\n",
       "       9.95074126e-01, 9.85783839e-01, 9.99725416e-01, 4.98201603e-01,\n",
       "       9.99932998e-01, 9.99951244e-01, 9.93366137e-01, 9.99992235e-01,\n",
       "       3.76674238e-01, 9.04523612e-01, 1.89778478e-02, 2.66085780e-01,\n",
       "       3.71262674e-05, 9.88803893e-01, 9.96018219e-01, 9.82376180e-01,\n",
       "       9.99987129e-01, 2.19036966e-03, 9.66199579e-01, 9.64319427e-01,\n",
       "       9.73234298e-04, 8.91911982e-01, 5.44132896e-01, 9.97964885e-01,\n",
       "       9.99950398e-01, 4.25853117e-04, 6.94769250e-02, 3.68824671e-04,\n",
       "       5.76296367e-06, 8.10818015e-01, 9.99956876e-01, 9.94898497e-01,\n",
       "       2.96063020e-01, 4.72619107e-02, 3.24962956e-04, 9.99954377e-01,\n",
       "       9.99999002e-01, 9.78323412e-01, 2.21811648e-02, 5.55462374e-02,\n",
       "       2.14150359e-02, 9.99719877e-01, 1.62277184e-02, 5.25186525e-01,\n",
       "       9.99994374e-01, 3.84908609e-04, 1.84388215e-01, 1.64454620e-02,\n",
       "       9.99996884e-01, 9.99994601e-01, 1.34253050e-02, 1.55640127e-01,\n",
       "       9.59125180e-01, 9.44539346e-01, 6.55806310e-01, 9.99716439e-01,\n",
       "       9.99873981e-01, 9.42976217e-01, 9.99543546e-01, 9.99963231e-01,\n",
       "       1.38850807e-02, 9.72959902e-01, 1.76367786e-01, 9.65293487e-01,\n",
       "       4.78586657e-01, 1.20774156e-03, 6.62746542e-03, 9.99997556e-01,\n",
       "       1.73876744e-01, 3.74779431e-01, 7.24504325e-01, 2.36469698e-02,\n",
       "       7.74106370e-01, 5.70561573e-02, 2.27413677e-01, 2.88331723e-02,\n",
       "       9.99906095e-01, 9.75812400e-01, 8.77597369e-01, 9.95917058e-01,\n",
       "       9.97627603e-01, 9.99906365e-01, 9.07627156e-01, 1.06270467e-02,\n",
       "       8.11730551e-01, 6.36346696e-05, 2.45340250e-01, 5.22054373e-01,\n",
       "       5.38027050e-03, 8.91689957e-05, 8.66539224e-01, 8.90348762e-01,\n",
       "       6.26114415e-03, 2.92723283e-01, 3.48979473e-01, 9.99700610e-01,\n",
       "       4.36969253e-03, 2.14841038e-02, 9.99998515e-01, 9.99727703e-01,\n",
       "       9.99048503e-01, 9.99825871e-01, 4.39894616e-02, 9.60845937e-01,\n",
       "       1.17840460e-01, 9.98973867e-01, 8.99143586e-01, 9.69795057e-01,\n",
       "       2.83017239e-03, 9.69744728e-01, 9.99995610e-01, 3.94998180e-06,\n",
       "       9.99877362e-01, 3.00245728e-02, 9.99982257e-01, 8.96873455e-01,\n",
       "       9.99331509e-01, 3.70718127e-03, 2.81740958e-05, 9.92413827e-01,\n",
       "       6.40620304e-01, 9.85927931e-01, 9.81217883e-01, 7.15294563e-02,\n",
       "       1.31660741e-06, 4.72686100e-01, 4.36563126e-05, 6.95389994e-01,\n",
       "       1.21559676e-02, 9.87409931e-01, 4.20027117e-02, 2.10033950e-01])"
      ]
     },
     "execution_count": 30,
     "metadata": {},
     "output_type": "execute_result"
    }
   ],
   "source": [
    "w = np.array([1,2,3,4])\n",
    "b = 1\n",
    "z = (w*x_train).sum(axis=1)+b\n",
    "y_pred = sigmoid(z)\n",
    "y_pred"
   ]
  },
  {
   "cell_type": "markdown",
   "metadata": {},
   "source": [
    "Binary Cross Entropy"
   ]
  },
  {
   "cell_type": "code",
   "execution_count": 31,
   "metadata": {},
   "outputs": [
    {
     "data": {
      "text/plain": [
       "np.float64(1.3959515636868534)"
      ]
     },
     "execution_count": 31,
     "metadata": {},
     "output_type": "execute_result"
    }
   ],
   "source": [
    "cost = -y_train*np.log(y_pred) - (1-y_train)*np.log(1-y_pred)\n",
    "cost.mean()"
   ]
  },
  {
   "cell_type": "code",
   "execution_count": 32,
   "metadata": {},
   "outputs": [],
   "source": [
    "def compute_cost(y,w,x,b):\n",
    "    z = (w*x).sum(axis=1)+b\n",
    "    y_pred = sigmoid(z)\n",
    "    cost = -y*np.log(y_pred) - (1-y)*np.log(1-y_pred)\n",
    "    return cost.mean()"
   ]
  },
  {
   "cell_type": "code",
   "execution_count": 33,
   "metadata": {},
   "outputs": [
    {
     "data": {
      "text/plain": [
       "np.float64(1.3959515636868534)"
      ]
     },
     "execution_count": 33,
     "metadata": {},
     "output_type": "execute_result"
    }
   ],
   "source": [
    "compute_cost(y_train,w,x_train,b)"
   ]
  },
  {
   "cell_type": "code",
   "execution_count": 34,
   "metadata": {},
   "outputs": [],
   "source": [
    "def compute_gradient(y,w,x,b):\n",
    "    z = (w*x).sum(axis=1)+b\n",
    "    y_pred = sigmoid(z)\n",
    "    w_gradient = np.zeros(x.shape[1])\n",
    "    b_gradientt = (y_pred-y).mean()\n",
    "    for i in range(x.shape[1]):\n",
    "        w_gradient[i] = (x[:,i]*(y_pred-y)).mean()\n",
    "    return w_gradient,b_gradientt"
   ]
  },
  {
   "cell_type": "code",
   "execution_count": 35,
   "metadata": {},
   "outputs": [],
   "source": [
    "def gradient_descent(w_init,b_init,learning_rate):\n",
    "    w = w_init\n",
    "    b = b_init\n",
    "\n",
    "    w_hist = [ ]\n",
    "    b_hist = [ ]\n",
    "    c_hist = [ ]\n",
    "\n",
    "    for i in range(10000):\n",
    "        w_gradient,b_gradient = compute_gradient(y_train,w,x_train,b)\n",
    "\n",
    "        w = w-w_gradient*learning_rate\n",
    "        b = b-b_gradient*learning_rate\n",
    "\n",
    "        cost = compute_cost(y_train,w,x_train,b)\n",
    "\n",
    "        if (i%1000 == 0):\n",
    "            print(f\"Interation {i} Cost: {cost:2e}\")\n",
    "        w_hist.append(w)\n",
    "        b_hist.append(b)\n",
    "        c_hist.append(cost)\n",
    "    return w,b,w_hist,b_hist,c_hist"
   ]
  },
  {
   "cell_type": "code",
   "execution_count": 36,
   "metadata": {},
   "outputs": [
    {
     "name": "stdout",
     "output_type": "stream",
     "text": [
      "Interation 0 Cost: 2.487343e+00\n",
      "Interation 1000 Cost: 2.300488e-01\n",
      "Interation 2000 Cost: 2.300488e-01\n",
      "Interation 3000 Cost: 2.300488e-01\n",
      "Interation 4000 Cost: 2.300488e-01\n",
      "Interation 5000 Cost: 2.300488e-01\n",
      "Interation 6000 Cost: 2.300488e-01\n",
      "Interation 7000 Cost: 2.300488e-01\n",
      "Interation 8000 Cost: 2.300488e-01\n",
      "Interation 9000 Cost: 2.300488e-01\n"
     ]
    }
   ],
   "source": [
    "w_init = np.array([1,2,2,3])\n",
    "b_init = 5\n",
    "learning_rate = 1\n",
    "w_final,b_final,w_hist,b_hist,c_hist = gradient_descent(w_init,b_init,learning_rate)"
   ]
  },
  {
   "cell_type": "code",
   "execution_count": 37,
   "metadata": {},
   "outputs": [
    {
     "data": {
      "image/png": "[encoded data removed]",
      "text/plain": [
       "<Figure size 640x480 with 1 Axes>"
      ]
     },
     "metadata": {},
     "output_type": "display_data"
    }
   ],
   "source": [
    "import matplotlib.pyplot as plt\n",
    "plt.title(\"Interation VS Cost\")\n",
    "plt.xlabel(\"Interation\")\n",
    "plt.ylabel(\"Cost\")\n",
    "plt.plot(np.arange(0,10000),c_hist[:10000])\n",
    "plt.show()"
   ]
  },
  {
   "cell_type": "code",
   "execution_count": 38,
   "metadata": {},
   "outputs": [
    {
     "data": {
      "image/png": "[encoded data removed]",
      "text/plain": [
       "<Figure size 640x480 with 1 Axes>"
      ]
     },
     "metadata": {},
     "output_type": "display_data"
    }
   ],
   "source": [
    "import matplotlib.pyplot as plt\n",
    "plt.title(\"Interation VS w\")\n",
    "plt.xlabel(\"Interation\")\n",
    "plt.ylabel(\"w\")\n",
    "plt.plot(np.arange(0,1000),w_hist[:1000])\n",
    "plt.show()"
   ]
  },
  {
   "cell_type": "code",
   "execution_count": 39,
   "metadata": {},
   "outputs": [
    {
     "data": {
      "image/png": "[encoded data removed]",
      "text/plain": [
       "<Figure size 640x480 with 1 Axes>"
      ]
     },
     "metadata": {},
     "output_type": "display_data"
    }
   ],
   "source": [
    "import matplotlib.pyplot as plt\n",
    "plt.title(\"Interation VS b\")\n",
    "plt.xlabel(\"Interation\")\n",
    "plt.ylabel(\"b\")\n",
    "plt.plot(np.arange(0,1000),c_hist[:1000])\n",
    "plt.show()"
   ]
  },
  {
   "cell_type": "code",
   "execution_count": 40,
   "metadata": {},
   "outputs": [
    {
     "data": {
      "text/plain": [
       "array([1, 0, 0, 0, 0, 0, 0, 1, 0, 1, 1, 0, 0, 0, 0, 0, 0, 0, 0, 0, 0, 0,\n",
       "       1, 0, 1, 0, 1, 0, 0, 0, 0, 0, 0, 1, 0, 0, 1, 0, 0, 0, 1, 0, 1, 1,\n",
       "       0, 0, 0, 1, 1, 1, 1, 0, 0, 1, 1, 0, 1, 1, 0, 0, 0, 0, 0, 0, 0, 0,\n",
       "       1, 0, 0, 1, 0, 1, 1, 1, 0, 0, 0, 0, 1, 0])"
      ]
     },
     "execution_count": 40,
     "metadata": {},
     "output_type": "execute_result"
    }
   ],
   "source": [
    "z = (w_final*x_test).sum(axis=1)+b_final\n",
    "y_pred = sigmoid(z)\n",
    "y_pred = np.where(y_pred>0.5,1,0)\n",
    "y_pred"
   ]
  },
  {
   "cell_type": "code",
   "execution_count": 41,
   "metadata": {},
   "outputs": [
    {
     "name": "stdout",
     "output_type": "stream",
     "text": [
      "正確率90.0%\n"
     ]
    }
   ],
   "source": [
    "acc = ((y_pred == y_test).sum()/len(y_test))*100\n",
    "print(f\"正確率{acc}%\")"
   ]
  },
  {
   "cell_type": "code",
   "execution_count": 42,
   "metadata": {},
   "outputs": [
    {
     "data": {
      "text/plain": [
       "array([0.04348214, 0.70827407])"
      ]
     },
     "execution_count": 42,
     "metadata": {},
     "output_type": "execute_result"
    }
   ],
   "source": [
    "# 72歲 90公斤 102血糖 女生\n",
    "# 62   52    120    男生\n",
    "x_real = np.array([[72,92,102,0],[62,52,120,1]])\n",
    "x_real = scaler.transform(x_real)\n",
    "\n",
    "z = (w_final*x_real).sum(axis=1)+b_final\n",
    "y_real = sigmoid(z)\n",
    "y_real"
   ]
  },
  {
   "cell_type": "code",
   "execution_count": 44,
   "metadata": {},
   "outputs": [
    {
     "data": {
      "image/png": "[encoded data removed]",
      "text/plain": [
       "<Figure size 640x480 with 1 Axes>"
      ]
     },
     "metadata": {},
     "output_type": "display_data"
    }
   ],
   "source": [
    "import matplotlib.pyplot as plt\n",
    "import numpy as np\n",
    "\n",
    "# 定義 Sigmoid 函數\n",
    "def sigmoid(x):\n",
    "    return 1 / (1 + np.exp(-x))\n",
    "\n",
    "\n",
    "z = np.linspace(-10, 10, 100)  # 產生從 -10 到 10 的 100 個點\n",
    "y = sigmoid(z)  # 計算 Sigmoid 值\n",
    "plt.plot(z, y, label=\"Sigmoid Function\", color=\"b\")\n",
    "\n",
    "# 設定標籤與標題\n",
    "plt.xlabel(\"Z\")\n",
    "plt.ylabel(\"Sigmoid(Z)\")\n",
    "plt.title(\"Sigmoid Function Curve\")\n",
    "plt.legend()\n",
    "plt.grid()\n",
    "plt.show()\n"
   ]
  }
 ],
 "metadata": {
  "kernelspec": {
   "display_name": "venv",
   "language": "python",
   "name": "python3"
  },
  "language_info": {
   "codemirror_mode": {
    "name": "ipython",
    "version": 3
   },
   "file_extension": ".py",
   "mimetype": "text/x-python",
   "name": "python",
   "nbconvert_exporter": "python",
   "pygments_lexer": "ipython3",
   "version": "3.13.2"
  }
 },
 "nbformat": 4,
 "nbformat_minor": 2
}
