{
 "cells": [
  {
   "cell_type": "code",
   "execution_count": 38,
   "metadata": {},
   "outputs": [],
   "source": [
    "import pandas as pd\n",
    "import matplotlib.pyplot as plt\n",
    "import numpy as np\n",
    "data = pd.read_csv(\"Multiple.csv\")"
   ]
  },
  {
   "cell_type": "markdown",
   "metadata": {},
   "source": [
    "#### Label Encoding"
   ]
  },
  {
   "cell_type": "code",
   "execution_count": 39,
   "metadata": {},
   "outputs": [],
   "source": [
    "data[\"EducationLevel\"] = data[\"EducationLevel\"].map({\"高中以下\": 0, \"大學\": 1, \"碩士以上\": 2})"
   ]
  },
  {
   "cell_type": "markdown",
   "metadata": {},
   "source": [
    "#### One-Hot Encoder"
   ]
  },
  {
   "cell_type": "code",
   "execution_count": 40,
   "metadata": {},
   "outputs": [],
   "source": [
    "from sklearn.preprocessing import OneHotEncoder\n",
    "onehotencoder = OneHotEncoder()\n",
    "onehotencoder.fit(data[[\"City\"]])\n",
    "city_encoded = onehotencoder.transform(data[[\"City\"]])# return 稀疏矩陣\n",
    "city_encoded = city_encoded.toarray()"
   ]
  },
  {
   "cell_type": "code",
   "execution_count": 41,
   "metadata": {},
   "outputs": [],
   "source": [
    "data[[\"CityA\",\"CityB\",\"CityC\"]] = city_encoded\n",
    "data = data.drop([\"City\",\"CityC\"],axis=1)"
   ]
  },
  {
   "cell_type": "code",
   "execution_count": 42,
   "metadata": {},
   "outputs": [],
   "source": [
    "from sklearn.model_selection import train_test_split\n",
    "import numpy as np\n",
    "x = data[[\"YearsExperience\",\"EducationLevel\",\"CityA\",\"CityB\"]]\n",
    "y = data[[\"Salary\"]]\n",
    "\n",
    "x_train,x_test,y_train,y_test = train_test_split(x,y,test_size=0.2,random_state=87)\n",
    "x_train = x_train.to_numpy()\n",
    "y_train =  y_train.to_numpy()\n",
    "x_test = x_test.to_numpy()\n",
    "y_test = y_test.to_numpy()"
   ]
  },
  {
   "cell_type": "code",
   "execution_count": 43,
   "metadata": {},
   "outputs": [],
   "source": [
    "w = np.array([1,2,3,4])\n",
    "b = 1\n",
    "y_pred = (x_train*w).sum(axis=1)+ b"
   ]
  },
  {
   "cell_type": "markdown",
   "metadata": {},
   "source": [
    "#### Cost Function"
   ]
  },
  {
   "cell_type": "code",
   "execution_count": 44,
   "metadata": {},
   "outputs": [],
   "source": [
    "def compute_cost(x, y, w, b):\n",
    "  y_pred = (x*w).sum(axis=1) + b\n",
    "  cost = ((y - y_pred)**2).mean()\n",
    "  return cost"
   ]
  },
  {
   "cell_type": "code",
   "execution_count": 45,
   "metadata": {},
   "outputs": [
    {
     "data": {
      "text/plain": [
       "np.float64(2477.394285714286)"
      ]
     },
     "execution_count": 45,
     "metadata": {},
     "output_type": "execute_result"
    }
   ],
   "source": [
    "w = np.array([0, 2, 2, 4])\n",
    "b = 0\n",
    "cost = compute_cost(x_train, y_train, w, b)\n",
    "cost"
   ]
  },
  {
   "cell_type": "code",
   "execution_count": 46,
   "metadata": {},
   "outputs": [
    {
     "data": {
      "text/plain": [
       "(array([-2.74e+02, -5.42e+01, -2.54e+01, -6.14e+00]),\n",
       " np.float64(-46.949999999999996))"
      ]
     },
     "execution_count": 46,
     "metadata": {},
     "output_type": "execute_result"
    }
   ],
   "source": [
    "y_pred = (x_train*w).sum(axis=1) +b\n",
    "b_gradient = (y_pred - y_train).mean()\n",
    "w_gradient = np.zeros(x_train.shape[1])\n",
    "\n",
    "\n",
    "for i in range(x_train.shape[1]):\n",
    "    w_gradient[i] = (x_train[:,i]*(y_pred-y_train)).mean()\n",
    "w_gradient,b_gradient\n",
    "# w1_gradient = (x_train[:,0]*(y_pred-y_train)).mean()\n",
    "# w1_gradient"
   ]
  },
  {
   "cell_type": "code",
   "execution_count": 47,
   "metadata": {},
   "outputs": [],
   "source": [
    "def compute_gradient(x, y, w, b):\n",
    "  y_pred = (x*w).sum(axis=1) + b\n",
    "  w_gradient = np.zeros(x.shape[1])\n",
    "  b_gradient = (y_pred - y).mean()\n",
    "  for i in range(x.shape[1]):\n",
    "    w_gradient[i] = (x[:, i]*(y_pred - y)).mean()\n",
    "\n",
    "  return w_gradient, b_gradient"
   ]
  },
  {
   "cell_type": "code",
   "execution_count": 48,
   "metadata": {},
   "outputs": [
    {
     "data": {
      "text/plain": [
       "(array([-2.26e+02, -4.52e+01, -2.25e+01, -4.56e+00]),\n",
       " np.float64(-40.07142857142858))"
      ]
     },
     "execution_count": 48,
     "metadata": {},
     "output_type": "execute_result"
    }
   ],
   "source": [
    "w = np.array([1,2,2,4])\n",
    "b = 1\n",
    "compute_gradient(x_train, y_train, w, b)"
   ]
  },
  {
   "cell_type": "code",
   "execution_count": 49,
   "metadata": {},
   "outputs": [
    {
     "name": "stdout",
     "output_type": "stream",
     "text": [
      "1890.4221428571427\n",
      "1781.9761478950202\n"
     ]
    }
   ],
   "source": [
    "w = np.array([1,2,2,4])\n",
    "b = 1\n",
    "learning_rate = 1.0e-3\n",
    "w_gradient,b_gradient = compute_gradient(x_train, y_train, w, b)\n",
    "print(compute_cost(x_train, y_train, w, b))\n",
    "w = w - w_gradient*learning_rate\n",
    "b = b - b_gradient*learning_rate\n",
    "w,b\n",
    "print(compute_cost(x_train, y_train, w, b))"
   ]
  },
  {
   "cell_type": "code",
   "execution_count": 50,
   "metadata": {},
   "outputs": [],
   "source": [
    "np.set_printoptions(formatter={'float': '{: .2e}'.format})\n",
    "def gradient_descent(x, y, w_init, b_init, learning_rate, cost_function, gradient_function, count, p_iter=1000):\n",
    "\n",
    "  c_hist = []\n",
    "  w_hist = []\n",
    "  b_hist = []\n",
    "\n",
    "  w = w_init\n",
    "  b = b_init\n",
    "\n",
    "  for i in range(count):\n",
    "    w_gradient, b_gradient = compute_gradient(x, y, w, b)\n",
    "\n",
    "    w = w - w_gradient*learning_rate\n",
    "    b = b - b_gradient*learning_rate\n",
    "    cost = cost_function(x, y, w, b)\n",
    "\n",
    "    w_hist.append(w)\n",
    "    b_hist.append(b)\n",
    "    c_hist.append(cost)\n",
    "\n",
    "    if i%p_iter == 0:\n",
    "      print(f\"Iteration {i:5} : Cost {cost: .4e}, w: {w}, b: {b: .2e}, w_gradient: {w_gradient}, b_gradient: {b_gradient: .2e}\")\n",
    "\n",
    "  return w, b, w_hist, b_hist, c_hist"
   ]
  },
  {
   "cell_type": "code",
   "execution_count": 51,
   "metadata": {},
   "outputs": [
    {
     "name": "stdout",
     "output_type": "stream",
     "text": [
      "Iteration     0 : Cost  1.8574e+03, w: [ 1.23e+00  2.05e+00  2.02e+00  4.00e+00], b:  4.11e-02, w_gradient: [-2.32e+02 -4.64e+01 -2.31e+01 -4.71e+00], b_gradient: -4.11e+01\n",
      "Iteration  1000 : Cost  4.3703e+02, w: [ 4.86e+00  4.52e+00  9.54e+00  1.48e+00], b:  6.85e+00, w_gradient: [ 1.16e+00 -1.19e+00 -5.30e+00  2.15e+00], b_gradient: -4.88e+00\n",
      "Iteration  2000 : Cost  3.6212e+02, w: [ 3.94e+00  5.46e+00  1.35e+01 -2.72e-01], b:  1.09e+01, w_gradient: [ 7.28e-01 -7.23e-01 -2.83e+00  1.42e+00], b_gradient: -3.31e+00\n",
      "Iteration  3000 : Cost  3.3343e+02, w: [ 3.35e+00  6.01e+00  1.55e+01 -1.45e+00], b:  1.37e+01, w_gradient: [ 4.65e-01 -4.09e-01 -1.39e+00  9.73e-01], b_gradient: -2.37e+00\n",
      "Iteration  4000 : Cost  3.2118e+02, w: [ 2.97e+00  6.31e+00  1.65e+01 -2.27e+00], b:  1.57e+01, w_gradient: [ 3.04e-01 -1.99e-01 -5.60e-01  6.95e-01], b_gradient: -1.80e+00\n",
      "Iteration  5000 : Cost  3.1491e+02, w: [ 2.72e+00  6.44e+00  1.68e+01 -2.87e+00], b:  1.73e+01, w_gradient: [ 2.06e-01 -6.15e-02 -8.07e-02  5.16e-01], b_gradient: -1.44e+00\n",
      "Iteration  6000 : Cost  3.1090e+02, w: [ 2.55e+00  6.45e+00  1.67e+01 -3.33e+00], b:  1.87e+01, w_gradient: [ 1.45e-01  2.69e-02  1.90e-01  3.97e-01], b_gradient: -1.22e+00\n",
      "Iteration  7000 : Cost  3.0784e+02, w: [ 2.42e+00  6.39e+00  1.64e+01 -3.68e+00], b:  1.98e+01, w_gradient: [ 1.08e-01  8.26e-02  3.40e-01  3.15e-01], b_gradient: -1.08e+00\n",
      "Iteration  8000 : Cost  3.0524e+02, w: [ 2.33e+00  6.29e+00  1.61e+01 -3.96e+00], b:  2.08e+01, w_gradient: [ 8.53e-02  1.17e-01  4.18e-01  2.55e-01], b_gradient: -9.80e-01\n",
      "Iteration  9000 : Cost  3.0292e+02, w: [ 2.25e+00  6.16e+00  1.56e+01 -4.20e+00], b:  2.18e+01, w_gradient: [ 7.11e-02  1.37e-01  4.56e-01  2.10e-01], b_gradient: -9.11e-01\n"
     ]
    }
   ],
   "source": [
    "w_init = np.array([1,2,2,4])\n",
    "b_init = 0\n",
    "learning_rate = 1.0e-3\n",
    "count = 10000\n",
    "\n",
    "w_final, b_final, w_hist, b_hist, c_hist = gradient_descent(x_train, y_train, w_init, b_init, learning_rate,compute_cost, compute_gradient,count )"
   ]
  },
  {
   "cell_type": "code",
   "execution_count": 52,
   "metadata": {},
   "outputs": [
    {
     "data": {
      "text/plain": [
       "(array([ 2.18e+00,  6.02e+00,  1.52e+01, -4.39e+00]),\n",
       " np.float64(22.658670502289073))"
      ]
     },
     "execution_count": 52,
     "metadata": {},
     "output_type": "execute_result"
    }
   ],
   "source": [
    "w_final,b_final"
   ]
  },
  {
   "cell_type": "code",
   "execution_count": 59,
   "metadata": {},
   "outputs": [
    {
     "ename": "ValueError",
     "evalue": "Per-column arrays must each be 1-dimensional",
     "output_type": "error",
     "traceback": [
      "\u001b[0;31m---------------------------------------------------------------------------\u001b[0m",
      "\u001b[0;31mValueError\u001b[0m                                Traceback (most recent call last)",
      "Cell \u001b[0;32mIn[59], line 2\u001b[0m\n\u001b[1;32m      1\u001b[0m y_pred \u001b[38;5;241m=\u001b[39m (w_final\u001b[38;5;241m*\u001b[39mx_test)\u001b[38;5;241m.\u001b[39msum(axis\u001b[38;5;241m=\u001b[39m\u001b[38;5;241m1\u001b[39m) \u001b[38;5;241m+\u001b[39m b_final\n\u001b[0;32m----> 2\u001b[0m \u001b[43mpd\u001b[49m\u001b[38;5;241;43m.\u001b[39;49m\u001b[43mDataFrame\u001b[49m\u001b[43m(\u001b[49m\u001b[43m{\u001b[49m\n\u001b[1;32m      3\u001b[0m \u001b[43m    \u001b[49m\u001b[38;5;124;43m\"\u001b[39;49m\u001b[38;5;124;43my_pred\u001b[39;49m\u001b[38;5;124;43m\"\u001b[39;49m\u001b[43m:\u001b[49m\u001b[43m \u001b[49m\u001b[43my_pred\u001b[49m\u001b[43m,\u001b[49m\n\u001b[1;32m      4\u001b[0m \u001b[43m    \u001b[49m\u001b[38;5;124;43m\"\u001b[39;49m\u001b[38;5;124;43my_test\u001b[39;49m\u001b[38;5;124;43m\"\u001b[39;49m\u001b[43m:\u001b[49m\u001b[43m \u001b[49m\u001b[43my_test\u001b[49m\n\u001b[1;32m      5\u001b[0m \u001b[43m}\u001b[49m\u001b[43m)\u001b[49m\n",
      "File \u001b[0;32m~/Desktop/stady_file/MachineLearning/sklearn-env/lib/python3.13/site-packages/pandas/core/frame.py:778\u001b[0m, in \u001b[0;36mDataFrame.__init__\u001b[0;34m(self, data, index, columns, dtype, copy)\u001b[0m\n\u001b[1;32m    772\u001b[0m     mgr \u001b[38;5;241m=\u001b[39m \u001b[38;5;28mself\u001b[39m\u001b[38;5;241m.\u001b[39m_init_mgr(\n\u001b[1;32m    773\u001b[0m         data, axes\u001b[38;5;241m=\u001b[39m{\u001b[38;5;124m\"\u001b[39m\u001b[38;5;124mindex\u001b[39m\u001b[38;5;124m\"\u001b[39m: index, \u001b[38;5;124m\"\u001b[39m\u001b[38;5;124mcolumns\u001b[39m\u001b[38;5;124m\"\u001b[39m: columns}, dtype\u001b[38;5;241m=\u001b[39mdtype, copy\u001b[38;5;241m=\u001b[39mcopy\n\u001b[1;32m    774\u001b[0m     )\n\u001b[1;32m    776\u001b[0m \u001b[38;5;28;01melif\u001b[39;00m \u001b[38;5;28misinstance\u001b[39m(data, \u001b[38;5;28mdict\u001b[39m):\n\u001b[1;32m    777\u001b[0m     \u001b[38;5;66;03m# GH#38939 de facto copy defaults to False only in non-dict cases\u001b[39;00m\n\u001b[0;32m--> 778\u001b[0m     mgr \u001b[38;5;241m=\u001b[39m \u001b[43mdict_to_mgr\u001b[49m\u001b[43m(\u001b[49m\u001b[43mdata\u001b[49m\u001b[43m,\u001b[49m\u001b[43m \u001b[49m\u001b[43mindex\u001b[49m\u001b[43m,\u001b[49m\u001b[43m \u001b[49m\u001b[43mcolumns\u001b[49m\u001b[43m,\u001b[49m\u001b[43m \u001b[49m\u001b[43mdtype\u001b[49m\u001b[38;5;241;43m=\u001b[39;49m\u001b[43mdtype\u001b[49m\u001b[43m,\u001b[49m\u001b[43m \u001b[49m\u001b[43mcopy\u001b[49m\u001b[38;5;241;43m=\u001b[39;49m\u001b[43mcopy\u001b[49m\u001b[43m,\u001b[49m\u001b[43m \u001b[49m\u001b[43mtyp\u001b[49m\u001b[38;5;241;43m=\u001b[39;49m\u001b[43mmanager\u001b[49m\u001b[43m)\u001b[49m\n\u001b[1;32m    779\u001b[0m \u001b[38;5;28;01melif\u001b[39;00m \u001b[38;5;28misinstance\u001b[39m(data, ma\u001b[38;5;241m.\u001b[39mMaskedArray):\n\u001b[1;32m    780\u001b[0m     \u001b[38;5;28;01mfrom\u001b[39;00m\u001b[38;5;250m \u001b[39m\u001b[38;5;21;01mnumpy\u001b[39;00m\u001b[38;5;21;01m.\u001b[39;00m\u001b[38;5;21;01mma\u001b[39;00m\u001b[38;5;250m \u001b[39m\u001b[38;5;28;01mimport\u001b[39;00m mrecords\n",
      "File \u001b[0;32m~/Desktop/stady_file/MachineLearning/sklearn-env/lib/python3.13/site-packages/pandas/core/internals/construction.py:503\u001b[0m, in \u001b[0;36mdict_to_mgr\u001b[0;34m(data, index, columns, dtype, typ, copy)\u001b[0m\n\u001b[1;32m    499\u001b[0m     \u001b[38;5;28;01melse\u001b[39;00m:\n\u001b[1;32m    500\u001b[0m         \u001b[38;5;66;03m# dtype check to exclude e.g. range objects, scalars\u001b[39;00m\n\u001b[1;32m    501\u001b[0m         arrays \u001b[38;5;241m=\u001b[39m [x\u001b[38;5;241m.\u001b[39mcopy() \u001b[38;5;28;01mif\u001b[39;00m \u001b[38;5;28mhasattr\u001b[39m(x, \u001b[38;5;124m\"\u001b[39m\u001b[38;5;124mdtype\u001b[39m\u001b[38;5;124m\"\u001b[39m) \u001b[38;5;28;01melse\u001b[39;00m x \u001b[38;5;28;01mfor\u001b[39;00m x \u001b[38;5;129;01min\u001b[39;00m arrays]\n\u001b[0;32m--> 503\u001b[0m \u001b[38;5;28;01mreturn\u001b[39;00m \u001b[43marrays_to_mgr\u001b[49m\u001b[43m(\u001b[49m\u001b[43marrays\u001b[49m\u001b[43m,\u001b[49m\u001b[43m \u001b[49m\u001b[43mcolumns\u001b[49m\u001b[43m,\u001b[49m\u001b[43m \u001b[49m\u001b[43mindex\u001b[49m\u001b[43m,\u001b[49m\u001b[43m \u001b[49m\u001b[43mdtype\u001b[49m\u001b[38;5;241;43m=\u001b[39;49m\u001b[43mdtype\u001b[49m\u001b[43m,\u001b[49m\u001b[43m \u001b[49m\u001b[43mtyp\u001b[49m\u001b[38;5;241;43m=\u001b[39;49m\u001b[43mtyp\u001b[49m\u001b[43m,\u001b[49m\u001b[43m \u001b[49m\u001b[43mconsolidate\u001b[49m\u001b[38;5;241;43m=\u001b[39;49m\u001b[43mcopy\u001b[49m\u001b[43m)\u001b[49m\n",
      "File \u001b[0;32m~/Desktop/stady_file/MachineLearning/sklearn-env/lib/python3.13/site-packages/pandas/core/internals/construction.py:114\u001b[0m, in \u001b[0;36marrays_to_mgr\u001b[0;34m(arrays, columns, index, dtype, verify_integrity, typ, consolidate)\u001b[0m\n\u001b[1;32m    111\u001b[0m \u001b[38;5;28;01mif\u001b[39;00m verify_integrity:\n\u001b[1;32m    112\u001b[0m     \u001b[38;5;66;03m# figure out the index, if necessary\u001b[39;00m\n\u001b[1;32m    113\u001b[0m     \u001b[38;5;28;01mif\u001b[39;00m index \u001b[38;5;129;01mis\u001b[39;00m \u001b[38;5;28;01mNone\u001b[39;00m:\n\u001b[0;32m--> 114\u001b[0m         index \u001b[38;5;241m=\u001b[39m \u001b[43m_extract_index\u001b[49m\u001b[43m(\u001b[49m\u001b[43marrays\u001b[49m\u001b[43m)\u001b[49m\n\u001b[1;32m    115\u001b[0m     \u001b[38;5;28;01melse\u001b[39;00m:\n\u001b[1;32m    116\u001b[0m         index \u001b[38;5;241m=\u001b[39m ensure_index(index)\n",
      "File \u001b[0;32m~/Desktop/stady_file/MachineLearning/sklearn-env/lib/python3.13/site-packages/pandas/core/internals/construction.py:664\u001b[0m, in \u001b[0;36m_extract_index\u001b[0;34m(data)\u001b[0m\n\u001b[1;32m    662\u001b[0m         raw_lengths\u001b[38;5;241m.\u001b[39mappend(\u001b[38;5;28mlen\u001b[39m(val))\n\u001b[1;32m    663\u001b[0m     \u001b[38;5;28;01melif\u001b[39;00m \u001b[38;5;28misinstance\u001b[39m(val, np\u001b[38;5;241m.\u001b[39mndarray) \u001b[38;5;129;01mand\u001b[39;00m val\u001b[38;5;241m.\u001b[39mndim \u001b[38;5;241m>\u001b[39m \u001b[38;5;241m1\u001b[39m:\n\u001b[0;32m--> 664\u001b[0m         \u001b[38;5;28;01mraise\u001b[39;00m \u001b[38;5;167;01mValueError\u001b[39;00m(\u001b[38;5;124m\"\u001b[39m\u001b[38;5;124mPer-column arrays must each be 1-dimensional\u001b[39m\u001b[38;5;124m\"\u001b[39m)\n\u001b[1;32m    666\u001b[0m \u001b[38;5;28;01mif\u001b[39;00m \u001b[38;5;129;01mnot\u001b[39;00m indexes \u001b[38;5;129;01mand\u001b[39;00m \u001b[38;5;129;01mnot\u001b[39;00m raw_lengths:\n\u001b[1;32m    667\u001b[0m     \u001b[38;5;28;01mraise\u001b[39;00m \u001b[38;5;167;01mValueError\u001b[39;00m(\u001b[38;5;124m\"\u001b[39m\u001b[38;5;124mIf using all scalar values, you must pass an index\u001b[39m\u001b[38;5;124m\"\u001b[39m)\n",
      "\u001b[0;31mValueError\u001b[0m: Per-column arrays must each be 1-dimensional"
     ]
    }
   ],
   "source": [
    "y_pred = (w_final*x_test).sum(axis=1) + b_final\n",
    "pd.DataFrame({\n",
    "    \"y_pred\": y_pred,\n",
    "    \"y_test\": y_test\n",
    "})"
   ]
  }
 ],
 "metadata": {
  "kernelspec": {
   "display_name": "sklearn-env",
   "language": "python",
   "name": "python3"
  },
  "language_info": {
   "codemirror_mode": {
    "name": "ipython",
    "version": 3
   },
   "file_extension": ".py",
   "mimetype": "text/x-python",
   "name": "python",
   "nbconvert_exporter": "python",
   "pygments_lexer": "ipython3",
   "version": "3.13.1"
  }
 },
 "nbformat": 4,
 "nbformat_minor": 2
}
