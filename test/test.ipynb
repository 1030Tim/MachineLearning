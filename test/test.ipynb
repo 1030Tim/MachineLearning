{
 "cells": [
  {
   "cell_type": "code",
   "execution_count": 5,
   "metadata": {},
   "outputs": [],
   "source": [
    "import pandas as pd\n",
    "\n",
    "url = \"https://raw.githubusercontent.com/ShiYu0318/SCIST_2025_WC_AI/main/study_hours_scores.csv\"\n",
    "\n",
    "data = pd.read_csv(url)\n",
    "\n",
    "data\n",
    "\n",
    "x = data[\"Study_Hours\"]\n",
    "y = data[\"Scores\"]"
   ]
  },
  {
   "cell_type": "code",
   "execution_count": 6,
   "metadata": {},
   "outputs": [
    {
     "name": "stdout",
     "output_type": "stream",
     "text": [
      "5037719199.6\n"
     ]
    }
   ],
   "source": [
    "import numpy as np\n",
    "\n",
    "def compute_cost(x,y,w,b):\n",
    "  y_pred = w*x + b\n",
    "  loss = (y - y_pred)**2\n",
    "  cost = loss.sum() / len(x)\n",
    "  return cost\n",
    "\n",
    "# 暴力窮舉 W -100 ~ 100 , B -100 ~ 100\n",
    "ws = np.arange(-100,101)\n",
    "bs = np.arange(-100,101)\n",
    "costs = np.zeros((201,201))\n",
    "\n",
    "i = 0\n",
    "for w in ws:\n",
    "  j = 0\n",
    "  for b in bs:\n",
    "    cost = compute_cost(x,y,w,b)\n",
    "    costs[i,j] = cost\n",
    "    j = j + 1\n",
    "  i = i + 1\n",
    "\n",
    "print(np.sum(costs))"
   ]
  }
 ],
 "metadata": {
  "kernelspec": {
   "display_name": "venv",
   "language": "python",
   "name": "python3"
  },
  "language_info": {
   "codemirror_mode": {
    "name": "ipython",
    "version": 3
   },
   "file_extension": ".py",
   "mimetype": "text/x-python",
   "name": "python",
   "nbconvert_exporter": "python",
   "pygments_lexer": "ipython3",
   "version": "3.13.1"
  }
 },
 "nbformat": 4,
 "nbformat_minor": 2
}
