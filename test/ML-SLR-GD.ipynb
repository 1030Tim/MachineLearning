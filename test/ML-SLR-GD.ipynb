{
 "cells": [
  {
   "cell_type": "code",
   "execution_count": 117,
   "metadata": {},
   "outputs": [],
   "source": [
    "import pandas as pd\n",
    "import numpy as np\n",
    "import matplotlib.pyplot as plt"
   ]
  },
  {
   "cell_type": "code",
   "execution_count": 118,
   "metadata": {},
   "outputs": [],
   "source": [
    "df = pd.read_csv(\"Study_Hourse_and_Scorse.csv\")\n",
    "x = df['Study_Hours']\n",
    "y = df['Scores']"
   ]
  },
  {
   "cell_type": "code",
   "execution_count": 119,
   "metadata": {},
   "outputs": [],
   "source": [
    "w = 0\n",
    "b = 0\n",
    "y_pred = w*x+b"
   ]
  },
  {
   "cell_type": "code",
   "execution_count": 113,
   "metadata": {},
   "outputs": [],
   "source": [
    "# 微分後結果\n",
    "# MSE loss function = (y - (y_pred)**2\n",
    "w = 10\n",
    "b = 10\n",
    "def compute_gradient(x,y,w,b):\n",
    "    w_gradient = (x*(w*x+b -y)).mean()\n",
    "    b_gradient = ((w*x+b -y)).mean()\n",
    "    return w_gradient,b_gradient"
   ]
  },
  {
   "cell_type": "code",
   "execution_count": 114,
   "metadata": {},
   "outputs": [],
   "source": [
    "def compute_cost(x,y,w,b):\n",
    "    y_pred = w*x+b\n",
    "    cost = (y-y_pred)**2\n",
    "    cost = cost.sum() / len(x)\n",
    "    return cost"
   ]
  },
  {
   "cell_type": "code",
   "execution_count": 115,
   "metadata": {},
   "outputs": [],
   "source": [
    "def gradient_descent(x, y, w_init, b_init, learning_rate, cost_function, gradient_function, run_iter, p_iter=1000):\n",
    "\n",
    "  c_hist = []\n",
    "  w_hist = []\n",
    "  b_hist = []\n",
    "\n",
    "  w = w_init\n",
    "  b = b_init\n",
    "\n",
    "  for i in range(run_iter):\n",
    "    w_gradient, b_gradient = gradient_function(x, y, w, b)\n",
    "\n",
    "    w = w - w_gradient*learning_rate\n",
    "    b = b - b_gradient*learning_rate\n",
    "    cost = cost_function(x, y, w, b)\n",
    "\n",
    "    w_hist.append(w)\n",
    "    b_hist.append(b)\n",
    "    c_hist.append(cost)\n",
    "\n",
    "    if i%p_iter == 0:\n",
    "      print(f\"Iteration {i:5} : Cost {cost: .4e}, w: {w: .2e}, b: {b: .2e}, w_gradient: {w_gradient: .2e}, b_gradient: {b_gradient: .2e}\")\n",
    "\n",
    "  return w, b, w_hist, b_hist, c_hist"
   ]
  },
  {
   "cell_type": "code",
   "execution_count": 116,
   "metadata": {},
   "outputs": [
    {
     "ename": "TypeError",
     "evalue": "unsupported format string passed to Series.__format__",
     "output_type": "error",
     "traceback": [
      "\u001b[0;31m---------------------------------------------------------------------------\u001b[0m",
      "\u001b[0;31mTypeError\u001b[0m                                 Traceback (most recent call last)",
      "Cell \u001b[0;32mIn[116], line 6\u001b[0m\n\u001b[1;32m      3\u001b[0m learning_rate \u001b[38;5;241m=\u001b[39m \u001b[38;5;241m1.0e-3\u001b[39m\n\u001b[1;32m      4\u001b[0m run_iter \u001b[38;5;241m=\u001b[39m \u001b[38;5;241m20000\u001b[39m\n\u001b[0;32m----> 6\u001b[0m w_final, b_final, w_hist, b_hist, c_hist \u001b[38;5;241m=\u001b[39m \u001b[43mgradient_descent\u001b[49m\u001b[43m(\u001b[49m\u001b[43mx\u001b[49m\u001b[43m,\u001b[49m\u001b[43m \u001b[49m\u001b[43my\u001b[49m\u001b[43m,\u001b[49m\u001b[43m \u001b[49m\u001b[43mw_init\u001b[49m\u001b[43m,\u001b[49m\u001b[43m \u001b[49m\u001b[43mb_init\u001b[49m\u001b[43m,\u001b[49m\u001b[43m \u001b[49m\u001b[43mlearning_rate\u001b[49m\u001b[43m,\u001b[49m\u001b[43mcomput_cost\u001b[49m\u001b[43m,\u001b[49m\u001b[43m \u001b[49m\u001b[43mgradient_function\u001b[49m\u001b[43m,\u001b[49m\u001b[43m \u001b[49m\u001b[43mrun_iter\u001b[49m\u001b[43m)\u001b[49m\n",
      "Cell \u001b[0;32mIn[115], line 22\u001b[0m, in \u001b[0;36mgradient_descent\u001b[0;34m(x, y, w_init, b_init, learning_rate, cost_function, gradient_function, run_iter, p_iter)\u001b[0m\n\u001b[1;32m     19\u001b[0m   c_hist\u001b[38;5;241m.\u001b[39mappend(cost)\n\u001b[1;32m     21\u001b[0m   \u001b[38;5;28;01mif\u001b[39;00m i\u001b[38;5;241m%\u001b[39mp_iter \u001b[38;5;241m==\u001b[39m \u001b[38;5;241m0\u001b[39m:\n\u001b[0;32m---> 22\u001b[0m     \u001b[38;5;28mprint\u001b[39m(\u001b[38;5;124mf\u001b[39m\u001b[38;5;124m\"\u001b[39m\u001b[38;5;124mIteration \u001b[39m\u001b[38;5;132;01m{\u001b[39;00mi\u001b[38;5;132;01m:\u001b[39;00m\u001b[38;5;124m5\u001b[39m\u001b[38;5;132;01m}\u001b[39;00m\u001b[38;5;124m : Cost \u001b[39m\u001b[38;5;132;01m{\u001b[39;00mcost\u001b[38;5;132;01m:\u001b[39;00m\u001b[38;5;124m .4e\u001b[39m\u001b[38;5;132;01m}\u001b[39;00m\u001b[38;5;124m, w: \u001b[39m\u001b[38;5;132;01m{\u001b[39;00mw\u001b[38;5;132;01m:\u001b[39;00m\u001b[38;5;124m .2e\u001b[39m\u001b[38;5;132;01m}\u001b[39;00m\u001b[38;5;124m, b: \u001b[39m\u001b[38;5;132;01m{\u001b[39;00mb\u001b[38;5;132;01m:\u001b[39;00m\u001b[38;5;124m .2e\u001b[39m\u001b[38;5;132;01m}\u001b[39;00m\u001b[38;5;124m, w_gradient: \u001b[39m\u001b[38;5;132;01m{\u001b[39;00mw_gradient\u001b[38;5;132;01m:\u001b[39;00m\u001b[38;5;124m .2e\u001b[39m\u001b[38;5;132;01m}\u001b[39;00m\u001b[38;5;124m, b_gradient: \u001b[39m\u001b[38;5;132;01m{\u001b[39;00mb_gradient\u001b[38;5;132;01m:\u001b[39;00m\u001b[38;5;124m .2e\u001b[39m\u001b[38;5;132;01m}\u001b[39;00m\u001b[38;5;124m\"\u001b[39m)\n\u001b[1;32m     24\u001b[0m \u001b[38;5;28;01mreturn\u001b[39;00m w, b, w_hist, b_hist, c_hist\n",
      "\u001b[0;31mTypeError\u001b[0m: unsupported format string passed to Series.__format__"
     ]
    }
   ],
   "source": [
    "w_init = 0\n",
    "b_init = 0\n",
    "learning_rate = 1.0e-3\n",
    "run_iter = 20000\n",
    "\n",
    "w_final, b_final, w_hist, b_hist, c_hist = gradient_descent(x, y, w_init, b_init, learning_rate,comput_cost, gradient_function, run_iter)"
   ]
  }
 ],
 "metadata": {
  "kernelspec": {
   "display_name": "sklearn-env",
   "language": "python",
   "name": "python3"
  },
  "language_info": {
   "codemirror_mode": {
    "name": "ipython",
    "version": 3
   },
   "file_extension": ".py",
   "mimetype": "text/x-python",
   "name": "python",
   "nbconvert_exporter": "python",
   "pygments_lexer": "ipython3",
   "version": "3.13.1"
  }
 },
 "nbformat": 4,
 "nbformat_minor": 2
}
