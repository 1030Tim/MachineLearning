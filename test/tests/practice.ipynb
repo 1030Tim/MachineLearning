{
 "cells": [
  {
   "cell_type": "code",
   "execution_count": 21,
   "metadata": {},
   "outputs": [],
   "source": [
    "import pandas as pd\n",
    "import numpy as np\n",
    "import matplotlib.pyplot as plt"
   ]
  },
  {
   "cell_type": "code",
   "execution_count": 22,
   "metadata": {},
   "outputs": [
    {
     "data": {
      "image/png": "[encoded data removed]",
      "text/plain": [
       "<Figure size 640x480 with 1 Axes>"
      ]
     },
     "metadata": {},
     "output_type": "display_data"
    }
   ],
   "source": [
    "df = pd.read_csv(\"Salary_Data.csv\")\n",
    "x = df[\"YearsExperience\"]\n",
    "y = df[\"Salary\"]\n",
    "plt.scatter(x,y,edgecolors=\"black\",linewidths=2,color=\"blue\")\n",
    "plt.show()"
   ]
  },
  {
   "cell_type": "code",
   "execution_count": 23,
   "metadata": {},
   "outputs": [],
   "source": [
    "def cost_functon(y,w,x,b)->int:\n",
    "    pred = w*x+b\n",
    "    cost = ((y-pred)**2).mean()\n",
    "    return cost"
   ]
  },
  {
   "cell_type": "code",
   "execution_count": 24,
   "metadata": {},
   "outputs": [],
   "source": [
    "def compute_gradient(y,w,x,b)->int:\n",
    "    w_gradient = (x*(w*x+b -y)).mean()\n",
    "    b_gradient = (w*x+b-y).mean()\n",
    "    return w_gradient,b_gradient"
   ]
  },
  {
   "cell_type": "code",
   "execution_count": 25,
   "metadata": {},
   "outputs": [],
   "source": [
    "def gradient_descent(w_init,b_init,count,learning_rate)->list:\n",
    "    w = w_init\n",
    "    b = b_init\n",
    "\n",
    "    w_hist = [ ]\n",
    "    b_hist = [ ]\n",
    "    c_hist = [ ]\n",
    "\n",
    "    for i in range(count):\n",
    "        w_gradient,b_gradient = compute_gradient(y,w,x,b)\n",
    "        w = w-w_gradient*learning_rate\n",
    "        b = b-b_gradient*learning_rate\n",
    "        cost = cost_functon(y,w,x,b)\n",
    "        w_hist.append(w)\n",
    "        b_hist.append(b)\n",
    "        c_hist.append(cost)\n",
    "\n",
    "        if (i%1000 == 0):\n",
    "            print(f\"interation {i}  cost {cost:.3f}  w {w} b {b}\")\n",
    "    return w,b,w_hist,b_hist,c_hist"
   ]
  },
  {
   "cell_type": "code",
   "execution_count": 32,
   "metadata": {},
   "outputs": [
    {
     "name": "stdout",
     "output_type": "stream",
     "text": [
      "interation 0  cost 5656.799  w 0.43577969696969693 b 0.07255151515151516\n",
      "interation 1000  cost 140.970  w 12.118801791741898 b 8.06663192056362\n",
      "interation 2000  cost 96.063  w 11.417134443574557 b 12.739111128263817\n",
      "interation 3000  cost 69.732  w 10.879850002973441 b 16.316946670827456\n",
      "interation 4000  cost 54.293  w 10.468437713565892 b 19.05658586462761\n",
      "interation 5000  cost 45.241  w 10.15340891487932 b 21.15439690790092\n",
      "interation 6000  cost 39.933  w 9.912183393529867 b 22.760743898131846\n",
      "interation 7000  cost 36.821  w 9.727470908852526 b 23.990764428959885\n",
      "interation 8000  cost 34.996  w 9.586031886128836 b 24.932622268803765\n",
      "interation 9000  cost 33.926  w 9.47772844803706 b 25.653826645675444\n",
      "interation 10000  cost 33.299  w 9.394797765424714 b 26.206071083440207\n",
      "interation 11000  cost 32.931  w 9.331295643610972 b 26.628938621162337\n",
      "interation 12000  cost 32.715  w 9.282670462341263 b 26.952738993299928\n",
      "interation 13000  cost 32.589  w 9.245436930831122 b 27.200681130360696\n",
      "interation 14000  cost 32.515  w 9.216926273749415 b 27.390536697617847\n",
      "interation 15000  cost 32.471  w 9.195094942305357 b 27.535913908792352\n",
      "interation 16000  cost 32.446  w 9.178378139488274 b 27.64723291741666\n",
      "interation 17000  cost 32.431  w 9.165577660637892 b 27.73247269867946\n",
      "interation 18000  cost 32.422  w 9.1557760101314 b 27.797742955749744\n",
      "interation 19000  cost 32.417  w 9.148270638357873 b 27.84772204291902\n"
     ]
    }
   ],
   "source": [
    "w_init = 0\n",
    "b_init = 0\n",
    "learning_rate = 1.0e-3\n",
    "count = 20000\n",
    "w_final,b_final,w_hist,b_hist,c_hist = gradient_descent(w_init,b_init,count,learning_rate)"
   ]
  },
  {
   "cell_type": "code",
   "execution_count": 33,
   "metadata": {},
   "outputs": [
    {
     "name": "stdout",
     "output_type": "stream",
     "text": [
      "59.9\n"
     ]
    }
   ],
   "source": [
    "print(f\"{3.5*w_final+b_final:.1f}\")"
   ]
  }
 ],
 "metadata": {
  "kernelspec": {
   "display_name": "sklearn-env",
   "language": "python",
   "name": "python3"
  },
  "language_info": {
   "codemirror_mode": {
    "name": "ipython",
    "version": 3
   },
   "file_extension": ".py",
   "mimetype": "text/x-python",
   "name": "python",
   "nbconvert_exporter": "python",
   "pygments_lexer": "ipython3",
   "version": "3.13.1"
  }
 },
 "nbformat": 4,
 "nbformat_minor": 2
}
