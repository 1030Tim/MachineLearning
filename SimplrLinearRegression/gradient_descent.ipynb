{
 "cells": [
  {
   "cell_type": "code",
   "execution_count": 71,
   "metadata": {},
   "outputs": [],
   "source": [
    "import pandas as pd\n",
    "import matplotlib.pyplot as plt\n",
    "import matplotlib as mpl\n",
    "from matplotlib.font_manager import fontManager\n",
    "mpl.rc('font',family='DFYuanLight-B5')\n",
    "mpl.rcParams['axes.unicode_minus']=False\n",
    "import wget\n",
    "#url = \"https://raw.githubusercontent.com/GrandmaCan/ML/main/Resgression/Salary_Data.csv\"\n",
    "#df = pd.read_csv(url)\n",
    "#df.to_csv(\"Salary_Data.csv\",index = False)\n",
    "df = pd.read_csv(\"Salary_Data.csv\")\n",
    "x = df['YearsExperience']\n",
    "y = df['Salary']"
   ]
  },
  {
   "cell_type": "code",
   "execution_count": 72,
   "metadata": {},
   "outputs": [],
   "source": [
    "# 微分後結果\n",
    "w = 10\n",
    "b = 10\n",
    "def comput_gradient(x,y,w,b):\n",
    "    w_gradient = (x*(w*x+b -y)).mean()\n",
    "    b_gradient = ((w*x+b -y)).mean()\n",
    "    return w_gradient,b_gradient"
   ]
  },
  {
   "cell_type": "code",
   "execution_count": 73,
   "metadata": {},
   "outputs": [
    {
     "name": "stdout",
     "output_type": "stream",
     "text": [
      "268.54757575757577 35.084848484848486\n"
     ]
    }
   ],
   "source": [
    "print(*comput_gradient(x,y,20,10))"
   ]
  },
  {
   "cell_type": "code",
   "execution_count": 74,
   "metadata": {},
   "outputs": [],
   "source": [
    "def compute_cost(x,y,w,b):\n",
    "    y_pred = w*x+b\n",
    "    cost = (y-y_pred)**2\n",
    "    cost = cost.sum() / len(x)\n",
    "    return cost"
   ]
  },
  {
   "cell_type": "code",
   "execution_count": 75,
   "metadata": {},
   "outputs": [],
   "source": [
    "w = 0\n",
    "b = 0\n",
    "def gradient_descent(x,y,w_init,b_init,learning_rate,cost_function,gradient_function,run_iter,p_iter = 1000):\n",
    "    w = w_init\n",
    "    b = b_init\n",
    "    c_hist = [ ]\n",
    "    w_hist = [ ]\n",
    "    b_hist = [ ]\n",
    "\n",
    "    for i in range(run_iter):\n",
    "        learning_rate = 0.001\n",
    "        w_gradient,b_gradient = comput_gradient(x,y,w,b)\n",
    "\n",
    "        w = w - w_gradient*learning_rate\n",
    "        b = b - b_gradient*learning_rate\n",
    "        cost = compute_cost(x,y,w,b)\n",
    "\n",
    "        w_hist.append(w)\n",
    "        b_hist.append(b)\n",
    "        c_hist.append(cost)\n",
    "        if (i%p_iter == 0):\n",
    "            print(f'Ieration {i:5} : Cost {cost: .2e}, W: {w: .2e}, b:{b: .2e}, w_gradinet {w_gradient: .2e}, b_gradinrt {b_gradient:.2e}')\n",
    "\n",
    "    return w,b,w_hist,b_hist,c_hist"
   ]
  },
  {
   "cell_type": "code",
   "execution_count": 76,
   "metadata": {},
   "outputs": [
    {
     "name": "stdout",
     "output_type": "stream",
     "text": [
      "Ieration     0 : Cost  5.66e+03, W:  4.36e-01, b: 7.26e-02, w_gradinet -4.36e+02, b_gradinrt -7.26e+01\n",
      "Ieration  1000 : Cost  1.41e+02, W:  1.21e+01, b: 8.07e+00, w_gradinet  8.00e-01, b_gradinrt -5.32e+00\n",
      "Ieration  2000 : Cost  9.61e+01, W:  1.14e+01, b: 1.27e+01, w_gradinet  6.12e-01, b_gradinrt -4.08e+00\n",
      "Ieration  3000 : Cost  6.97e+01, W:  1.09e+01, b: 1.63e+01, w_gradinet  4.69e-01, b_gradinrt -3.12e+00\n",
      "Ieration  4000 : Cost  5.43e+01, W:  1.05e+01, b: 1.91e+01, w_gradinet  3.59e-01, b_gradinrt -2.39e+00\n",
      "Ieration  5000 : Cost  4.52e+01, W:  1.02e+01, b: 2.12e+01, w_gradinet  2.75e-01, b_gradinrt -1.83e+00\n",
      "Ieration  6000 : Cost  3.99e+01, W:  9.91e+00, b: 2.28e+01, w_gradinet  2.10e-01, b_gradinrt -1.40e+00\n",
      "Ieration  7000 : Cost  3.68e+01, W:  9.73e+00, b: 2.40e+01, w_gradinet  1.61e-01, b_gradinrt -1.07e+00\n",
      "Ieration  8000 : Cost  3.50e+01, W:  9.59e+00, b: 2.49e+01, w_gradinet  1.23e-01, b_gradinrt -8.22e-01\n",
      "Ieration  9000 : Cost  3.39e+01, W:  9.48e+00, b: 2.57e+01, w_gradinet  9.45e-02, b_gradinrt -6.29e-01\n",
      "Ieration 10000 : Cost  3.33e+01, W:  9.39e+00, b: 2.62e+01, w_gradinet  7.24e-02, b_gradinrt -4.82e-01\n",
      "Ieration 11000 : Cost  3.29e+01, W:  9.33e+00, b: 2.66e+01, w_gradinet  5.54e-02, b_gradinrt -3.69e-01\n",
      "Ieration 12000 : Cost  3.27e+01, W:  9.28e+00, b: 2.70e+01, w_gradinet  4.24e-02, b_gradinrt -2.83e-01\n",
      "Ieration 13000 : Cost  3.26e+01, W:  9.25e+00, b: 2.72e+01, w_gradinet  3.25e-02, b_gradinrt -2.16e-01\n",
      "Ieration 14000 : Cost  3.25e+01, W:  9.22e+00, b: 2.74e+01, w_gradinet  2.49e-02, b_gradinrt -1.66e-01\n",
      "Ieration 15000 : Cost  3.25e+01, W:  9.20e+00, b: 2.75e+01, w_gradinet  1.90e-02, b_gradinrt -1.27e-01\n",
      "Ieration 16000 : Cost  3.24e+01, W:  9.18e+00, b: 2.76e+01, w_gradinet  1.46e-02, b_gradinrt -9.71e-02\n",
      "Ieration 17000 : Cost  3.24e+01, W:  9.17e+00, b: 2.77e+01, w_gradinet  1.12e-02, b_gradinrt -7.44e-02\n",
      "Ieration 18000 : Cost  3.24e+01, W:  9.16e+00, b: 2.78e+01, w_gradinet  8.55e-03, b_gradinrt -5.70e-02\n",
      "Ieration 19000 : Cost  3.24e+01, W:  9.15e+00, b: 2.78e+01, w_gradinet  6.55e-03, b_gradinrt -4.36e-02\n"
     ]
    }
   ],
   "source": [
    "w_init = 0\n",
    "b_init = 0\n",
    "learning_rate = 1.0e-3\n",
    "run_iter = 20000\n",
    "w_final,b_final,w_hist,b_hist,c_hist = gradient_descent(x,y,w_init,b_init,learning_rate,compute_cost,comput_gradient,run_iter)"
   ]
  },
  {
   "cell_type": "code",
   "execution_count": 78,
   "metadata": {},
   "outputs": [
    {
     "name": "stdout",
     "output_type": "stream",
     "text": [
      "最終w b = (9.142528600076414 27.885958900526827)\n"
     ]
    }
   ],
   "source": [
    "print(f'最終w b = ({w_final} {b_final})')"
   ]
  }
 ],
 "metadata": {
  "kernelspec": {
   "display_name": "venv",
   "language": "python",
   "name": "python3"
  },
  "language_info": {
   "codemirror_mode": {
    "name": "ipython",
    "version": 3
   },
   "file_extension": ".py",
   "mimetype": "text/x-python",
   "name": "python",
   "nbconvert_exporter": "python",
   "pygments_lexer": "ipython3",
   "version": "3.13.1"
  }
 },
 "nbformat": 4,
 "nbformat_minor": 2
}
